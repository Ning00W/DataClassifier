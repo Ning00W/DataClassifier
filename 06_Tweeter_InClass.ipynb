{
 "cells": [
  {
   "cell_type": "code",
   "execution_count": 7,
   "id": "86a445ba",
   "metadata": {},
   "outputs": [],
   "source": [
    "import tweepy\n",
    "import json\n",
    "import requests\n",
    "from nltk.corpus import stopwords # stopword examples, 'its', 'on', 'the', etc <---- will be helpful later\n",
    "# most pythonistas will rename pandas as pd, numpy as np, and datetime as dt for short (you don't have to)\n",
    "import pandas as pd\n",
    "import numpy as np\n",
    "import datetime as dt"
   ]
  },
  {
   "cell_type": "code",
   "execution_count": 11,
   "id": "1ced6174",
   "metadata": {},
   "outputs": [],
   "source": [
    "credentials = \"keys.json.txt\"\n",
    "with open(credentials, \"r\") as keys:\n",
    "    api_tokens = json.load(keys)"
   ]
  },
  {
   "cell_type": "code",
   "execution_count": 14,
   "id": "f154b0c0",
   "metadata": {},
   "outputs": [],
   "source": [
    "bearer_token = api_tokens[\"bearer_token\"]"
   ]
  },
  {
   "cell_type": "code",
   "execution_count": 15,
   "id": "8a94b906",
   "metadata": {},
   "outputs": [],
   "source": [
    "client = tweepy.Client(bearer_token=bearer_token)"
   ]
  },
  {
   "cell_type": "code",
   "execution_count": 16,
   "id": "fda3c157",
   "metadata": {},
   "outputs": [
    {
     "data": {
      "text/plain": [
       "[<Tweet id=1600458683284168704 text='Look how much I learned on Duolingo in 2022! How did you do? #Duolingo365 https://t.co/9CUHhGA5Fz'>,\n",
       " <Tweet id=1600458680289591296 text='Look how much I learned on Duolingo in 2022! How did you do? #Duolingo365 https://t.co/YDXTQeaPii'>,\n",
       " <Tweet id=1600458643484180480 text='😆 I’m a Superstar Learner! What’s your Duolingo learner style? #Duolingo365 https://t.co/Rq0BoJBnzg'>,\n",
       " <Tweet id=1600458503453171712 text='Look how much I learned on Duolingo in 2022! How did you do? #Duolingo365 https://t.co/oGWJeblpZs'>,\n",
       " <Tweet id=1600458501498712066 text='Look how much I learned on Duolingo in 2022! How did you do? #Duolingo365 https://t.co/8NsjcOwSup'>,\n",
       " <Tweet id=1600458435065167874 text='Look how much I learned on Duolingo in 2022! How did you do? #Duolingo365 https://t.co/ykgY2kEZfR'>,\n",
       " <Tweet id=1600458432427208705 text='Digital Strategy: Why leave it to a specialized company? (10 Benefits)\\nMust Read Once: https://t.co/xvBDJGPoZd\\n#MARESP #PORSUI #MORSPA #Duolingo365 https://t.co/5xAa9nkFcl'>,\n",
       " <Tweet id=1600458404555853824 text='Look how much I learned on Duolingo in 2022! How did you do? #Duolingo365 https://t.co/588TDbZezR'>,\n",
       " <Tweet id=1600458349266407424 text='Look how much I learned on Duolingo in 2022! How did you do? #Duolingo365 https://t.co/N527CyU7L9'>,\n",
       " <Tweet id=1600458338625818624 text='I’m a Galactic Legend! What’s your Duolingo learner style? #Duolingo365 https://t.co/ct4XCaZZ8A'>,\n",
       " <Tweet id=1600458334955622400 text='I’m a Galactic Legend! What’s your Duolingo learner style? #Duolingo365 https://t.co/NyFW0Jhmjy'>,\n",
       " <Tweet id=1600458304718835712 text='Look how much I learned on Duolingo in 2022! How did you do? #Duolingo365 https://t.co/Tdxbp6dofg'>,\n",
       " <Tweet id=1600458277107679232 text='Look how much I learned on Duolingo in 2022! How did you do? #Duolingo365 https://t.co/9oQ80fYFSt'>,\n",
       " <Tweet id=1600458221704970241 text='Look how much I learned on Duolingo in 2022! How did you do? #Duolingo365 https://t.co/ZTtPHa2v2D'>,\n",
       " <Tweet id=1600458196052647942 text='I’m a Galactic Legend! What’s your Duolingo learner style? #Duolingo365 https://t.co/FlDa8GAm5b'>,\n",
       " <Tweet id=1600458189459406853 text='Look how much I learned on Duolingo in 2022! How did you do? #Duolingo365 https://t.co/aRAyyJ6NQc'>,\n",
       " <Tweet id=1600458174045134848 text='Look how much I learned on Duolingo in 2022! How did you do? #Duolingo365 https://t.co/eWxDdGGxaf'>,\n",
       " <Tweet id=1600458141849772032 text='wow increíble\\n\\nLook how much I learned on Duolingo in 2022! How did you do? #Duolingo365 https://t.co/LZAcs1rgwv'>,\n",
       " <Tweet id=1600458078318632965 text='Look how much I learned on Duolingo in 2022! How did you do? #Duolingo365\\nHoly shit that’s a lot https://t.co/ArhZ4dJDcc'>,\n",
       " <Tweet id=1600458073222553601 text='Look how much I learned on Duolingo in 2022! How did you do? #Duolingo365 https://t.co/Scy97TWDGe'>,\n",
       " <Tweet id=1600458023285276672 text='Look how much I learned on Duolingo in 2022! How did you do? #Duolingo365 https://t.co/UkoCPihbUY'>,\n",
       " <Tweet id=1600458008584077314 text='I’m one of the elite learners on Duolingo. #Duolingo365 https://t.co/c8APumWTTX'>,\n",
       " <Tweet id=1600457976355004416 text='I’m a Polyglot Pupil! What’s your Duolingo learner style? #Duolingo365 https://t.co/WupAYaUNJp'>,\n",
       " <Tweet id=1600457972131536897 text='Look how much I learned on Duolingo in 2022! How did you do? #Duolingo365 ✨🤓❤️ https://t.co/w6PbpdLfuX'>,\n",
       " <Tweet id=1600457838521884672 text='Look how much I learned on Duolingo in 2022! How did you do? #Duolingo365 https://t.co/HYx8DdyHTv'>,\n",
       " <Tweet id=1600457757467246593 text='Look how much I learned on Duolingo in 2022! How did you do? #Duolingo365 \\n\\nSpotify Wrapped whomstve https://t.co/mUINrNTh3K'>,\n",
       " <Tweet id=1600457699879112704 text='Look how much I learned on Duolingo in 2022! How did you do? #Duolingo365 https://t.co/eyvu3nYCNr'>,\n",
       " <Tweet id=1600457693298237441 text=\"Duolinos new update sucks but I'm certainly not giving up any time soon #Duolingo365 https://t.co/zapshxqkkw\">,\n",
       " <Tweet id=1600457683768938500 text='Look how much I learned on Duolingo in 2022! How did you do? #Duolingo365 https://t.co/4cBfs66wIs'>,\n",
       " <Tweet id=1600457683043246080 text='Look how much I learned on Duolingo in 2022! How did you do? #Duolingo365 https://t.co/byuKIGP9KS'>,\n",
       " <Tweet id=1600457550134095872 text='Look how much I learned on Duolingo in 2022! How did you do? #Duolingo365 https://t.co/vQ7WpmAIYO'>,\n",
       " <Tweet id=1600457544584945664 text='Look how much I learned on Duolingo in 2022! How did you do? #Duolingo365 https://t.co/JUzSecwobg'>,\n",
       " <Tweet id=1600457544572407808 text='I’m a Galactic Legend! What’s your Duolingo learner style? #Duolingo365 https://t.co/mkNGasmtNO'>,\n",
       " <Tweet id=1600457534778777607 text='Look how much I learned on Duolingo in 2022! How did you do? #Duolingo365 https://t.co/vr2nf3pN7r'>,\n",
       " <Tweet id=1600457431942803456 text='Look how much I learned on Duolingo in 2022! How did you do? #Duolingo365 https://t.co/ftMgeDsZZa'>,\n",
       " <Tweet id=1600457372358430722 text='Look how much I learned on Duolingo in 2022! How did you do? #Duolingo365 https://t.co/LbzDbmxazz'>,\n",
       " <Tweet id=1600457324384190466 text='I’m a Galactic Legend! What’s your Duolingo learner style? #Duolingo365 https://t.co/2QPLv9TOH0'>,\n",
       " <Tweet id=1600457301181476864 text='I’m a Galactic Legend! What’s your Duolingo learner style? #Duolingo365 https://t.co/1rNwK1saSJ'>,\n",
       " <Tweet id=1600457175909863426 text='Look how much I learned on Duolingo in 2022! How did you do? #Duolingo365 https://t.co/QhIDQaSgMz'>,\n",
       " <Tweet id=1600457111913242627 text='Look how much I learned on Duolingo in 2022! How did you do? #Duolingo365 https://t.co/reNszj3fmC'>,\n",
       " <Tweet id=1600457079084531714 text='Look how much I learned on Duolingo in 2022! How did you do? #Duolingo365 https://t.co/VfcoOWzf4h'>,\n",
       " <Tweet id=1600457048671633411 text='Look how much I learned on Duolingo in 2022! How did you do? #Duolingo365 https://t.co/6eAyFjlWzW'>,\n",
       " <Tweet id=1600456971886497795 text='Look how much I learned on Duolingo in 2022! How did you do? #Duolingo365 https://t.co/0JPXe6aNoy'>,\n",
       " <Tweet id=1600456965616201728 text='Look how much I learned on Duolingo in 2022! How did you do? #Duolingo365 https://t.co/LTFELEOEor'>,\n",
       " <Tweet id=1600456950436704256 text='Look how much I learned on Duolingo in 2022! How did you do? #Duolingo365 https://t.co/SIPRoBBW2k'>,\n",
       " <Tweet id=1600456894178787328 text='Look how much I learned on Duolingo in 2022! How did you do? #Duolingo365 https://t.co/hQuFZ6SPLh'>,\n",
       " <Tweet id=1600456860913369089 text='I can do better 🙃 Look how much I learned on Duolingo in 2022! How did you do? #Duolingo365 https://t.co/FxUaSt3iew'>,\n",
       " <Tweet id=1600456819973017603 text='Look how much I learned on Duolingo in 2022! How did you do? #Duolingo365 https://t.co/f53qFoAR7z'>,\n",
       " <Tweet id=1600456814788636674 text='Look how much I learned on Duolingo in 2022! How did you do? #Duolingo365 https://t.co/t4Jg2ht72P'>,\n",
       " <Tweet id=1600456809029898240 text='Look how much I learned on Duolingo in 2022! How did you do? #Duolingo365 https://t.co/tXH5I0b6rQ'>,\n",
       " <Tweet id=1600456803527331840 text='I’m a Superstar Learner! What’s your Duolingo learner style? #Duolingo365 https://t.co/pB45gL5Sng'>,\n",
       " <Tweet id=1600456801522065408 text='Look how much I learned on Duolingo in 2022! How did you do? #Duolingo365 https://t.co/hm6aU1GO31'>,\n",
       " <Tweet id=1600456750636838913 text='I’m a Superstar Learner! What’s your Duolingo learner style? #Duolingo365 https://t.co/MkzAAK1c9B'>,\n",
       " <Tweet id=1600456694328270848 text='Look how much I learned on Duolingo in 2022! How did you do? #Duolingo365 https://t.co/bOmKCIgP3B'>,\n",
       " <Tweet id=1600456693527498752 text='Look at the news! I just download it! Great app called Temu!\\n\\nhttps://t.co/cnJzpubpOv\\n#Duolingo365'>,\n",
       " <Tweet id=1600456666079580160 text='I’m a Learning Legend! What’s your Duolingo learner style? #Duolingo365 https://t.co/xiWvGV1Z45'>,\n",
       " <Tweet id=1600456597272150024 text='Look how much I learned on Duolingo in 2022! How did you do? #Duolingo365 https://t.co/zyzHnZdsZv'>,\n",
       " <Tweet id=1600456566393606145 text='Look how much I learned on Duolingo in 2022! How did you do? #Duolingo365 https://t.co/l1JdZk0Yid'>,\n",
       " <Tweet id=1600456555048173569 text='Look how much I learned on Duolingo in 2022! How did you do? #Duolingo365 https://t.co/FUQSnXgAhB'>,\n",
       " <Tweet id=1600456547431337985 text='I am apparently a Galactic Legend at duolingo this year 🦉#Duolingo365 https://t.co/rWG5ldCPVC'>,\n",
       " <Tweet id=1600456537176043520 text='Look how much I learned on Duolingo in 2022! How did you do? #Duolingo365 https://t.co/Mso6DQIhM1'>,\n",
       " <Tweet id=1600456519597772800 text='Look how much I learned on Duolingo in 2022! How did you do? #Duolingo365 https://t.co/MH4paZ34OD'>,\n",
       " <Tweet id=1600456450823725056 text='Look how much I learned on Duolingo in 2022! How did you do? #Duolingo365 https://t.co/aAvn6ZFejP'>,\n",
       " <Tweet id=1600456361032437760 text='Look how much I learned on Duolingo in 2022! How did you do? #Duolingo365 https://t.co/RLBp9c6Nc2'>,\n",
       " <Tweet id=1600456277607317505 text='Look how much I learned on Duolingo in 2022! How did you do? #Duolingo365 https://t.co/eduVhGGx6v'>,\n",
       " <Tweet id=1600456223240994820 text=\"I only started learning Danish a month or so ago so really suprised to be in the top 4%. We're off to Norway next so I'll be starting that tomorrow 😅 never going to be fluent in these but it's nice to have enough to get by #Duolingo365 https://t.co/BgLW6Q5Dmc\">,\n",
       " <Tweet id=1600456151086247936 text='WAKE UP BABE DUOLINGO WRAPPED JUST DROPPED #Duolingo365 https://t.co/UG5wpkRWkR'>,\n",
       " <Tweet id=1600456134128971778 text='I’m a Learning Legend! What’s your Duolingo learner style? #Duolingo365\\n\\nSnap https://t.co/ncqEvjWiMB'>,\n",
       " <Tweet id=1600456108220370944 text='Look how much I learned on Duolingo in 2022! How did you do? #Duolingo365 https://t.co/ACNEtUSwv9'>,\n",
       " <Tweet id=1600456079636209664 text='Not bad for somone who just started..\\n\\n  #Duolingo365 https://t.co/5xK2iek4E1'>,\n",
       " <Tweet id=1600456062523826176 text='Need the REWARD #Duolingo365 https://t.co/jej45mFYpp'>,\n",
       " <Tweet id=1600456059037982720 text='Look how much I learned on Duolingo in 2022! How did you do? #Duolingo365 https://t.co/Z8dugMPLAw'>,\n",
       " <Tweet id=1600456019230232577 text='I’m a Wide-Eyed Newcomer! What’s your Duolingo learner style? #Duolingo365 https://t.co/p7wAxSRevT'>,\n",
       " <Tweet id=1600456017761906688 text='Look how much I learned on Duolingo in 2022! How did you do? #Duolingo365 https://t.co/S1Qr7h0OZD'>,\n",
       " <Tweet id=1600455954109284353 text='Sucker for a bit of gamification #Duolingo365 https://t.co/7aqcfDzLNd'>,\n",
       " <Tweet id=1600455896739348480 text='\"Words learned\" is not accurate but pretty happy about this 💃 #Duolingo365 https://t.co/DAyn8pEEXv'>,\n",
       " <Tweet id=1600455837696212992 text='Look how much I learned on Duolingo in 2022! How did you do? #Duolingo365 https://t.co/cexLyzoRZQ'>,\n",
       " <Tweet id=1600455778644545536 text=\"'Galactic Legend' sounds cool. Thanks #Duolingo ! \\nGuess I'll save this and take it slow from now on. \\n#Duolingo365 #languagelearning #Wednesday #languages https://t.co/q3f9DOHsfm\">,\n",
       " <Tweet id=1600455699607191552 text='Look how much I learned on Duolingo in 2022! How did you do? #Duolingo365 https://t.co/aMtrO3S3hd'>,\n",
       " <Tweet id=1600455684419883009 text='Look how much I learned on Duolingo in 2022! How did you do? #Duolingo365 https://t.co/nhdRqulFJd'>,\n",
       " <Tweet id=1600455599946289152 text='Look how much I learned on Duolingo in 2022! How did you do? #Duolingo365 https://t.co/4KpnzP5HJM'>,\n",
       " <Tweet id=1600455598927224832 text='Look how much I learned on Duolingo in 2022! How did you do? #Duolingo365 https://t.co/1502jFKWpl'>,\n",
       " <Tweet id=1600455585358454784 text='Look how much I learned on Duolingo in 2022! How did you do? #Duolingo365 https://t.co/CnJe9FWIi0'>,\n",
       " <Tweet id=1600455544749408257 text='I’m a Superstar Learner! What’s your Duolingo learner style? #Duolingo365 https://t.co/S1c9SOwoth'>,\n",
       " <Tweet id=1600455514348847114 text='Look how much I learned on Duolingo in 2022! How did you do? #Duolingo365 https://t.co/eYFdiOvIxq'>,\n",
       " <Tweet id=1600455478709932032 text='Look how much I learned on Duolingo in 2022! How did you do? #Duolingo365 https://t.co/3wCkniFGRl'>,\n",
       " <Tweet id=1600455453682458624 text='I’m a Galactic Legend! What’s your Duolingo learner style? #Duolingo365\\n\\nMR WORLDWIDE https://t.co/zT4ep1oDQH'>,\n",
       " <Tweet id=1600455452856156160 text='Look how much I learned on Duolingo in 2022! How did you do? #Duolingo365 https://t.co/DFVX35hNUp'>,\n",
       " <Tweet id=1600455377883377664 text='oh sweet #Duolingo365 https://t.co/RjcSE7VfSB'>,\n",
       " <Tweet id=1600455367896584193 text='Look how much I learned on Duolingo in 2022! How did you do? #Duolingo365 @duolingo https://t.co/STlkRRGfg0'>,\n",
       " <Tweet id=1600455356995358720 text='I’m a Long Streaker! What’s your Duolingo learner style? #Duolingo365 https://t.co/DonPLzmhPJ'>,\n",
       " <Tweet id=1600455210505207808 text='Look how much I learned on Duolingo in 2022! How did you do? #Duolingo365 https://t.co/K1BgIWRqoR'>,\n",
       " <Tweet id=1600455078980247555 text='Look how much I learned on Duolingo in 2022! How did you do? #Duolingo365 https://t.co/qpagVIu6vQ'>,\n",
       " <Tweet id=1600455047724388354 text='Look how much I learned on Duolingo in 2022! How did you do? #Duolingo365 https://t.co/chBqHDIlcj'>,\n",
       " <Tweet id=1600454934364684288 text='Look how much I learned on Duolingo in 2022! How did you do? #Duolingo365 https://t.co/taAzYYbNTT'>,\n",
       " <Tweet id=1600454713433956352 text='Look how much I learned on Duolingo in 2022! How did you do? #Duolingo365 https://t.co/VnujsezX97'>,\n",
       " <Tweet id=1600454687647354881 text='Best Healthy Breakfast Foods to Eat\\nRead  More:\\nhttps://t.co/uf1xT5Ag09\\n\\n#Duolingo365 #MHA375 #PeoplesChoiceAwards  #Genshinlmpact #SleighPalGiveaway #Walker #GArunoff  #Wednesday  #wednesdayclub  #wednesdaydance  #USA  #TrumpCrimeFamily  #foodies https://t.co/KV3pSbANJu'>,\n",
       " <Tweet id=1600454678650662913 text='Look how much I learned on Duolingo in 2022! How did you do? #Duolingo365\\n🤌🏽 https://t.co/TMTw2jTSST'>]"
      ]
     },
     "execution_count": 16,
     "metadata": {},
     "output_type": "execute_result"
    }
   ],
   "source": [
    "duolingo_data = client.search_recent_tweets(\n",
    "    query = \"#duolingo365 -is:retweet lang:en\",\n",
    "    max_results = 100\n",
    ")\n",
    "\n",
    "duolingo_data.data"
   ]
  },
  {
   "cell_type": "code",
   "execution_count": 17,
   "id": "ef978ee2",
   "metadata": {},
   "outputs": [],
   "source": [
    "tweets_duolingo = []"
   ]
  },
  {
   "cell_type": "code",
   "execution_count": 18,
   "id": "0713fc94",
   "metadata": {},
   "outputs": [],
   "source": [
    "for tweet in duolingo_data.data:\n",
    "    tweets_duolingo.append(tweet.text)"
   ]
  },
  {
   "cell_type": "code",
   "execution_count": 19,
   "id": "f536e2b8",
   "metadata": {},
   "outputs": [
    {
     "data": {
      "text/plain": [
       "['Look how much I learned on Duolingo in 2022! How did you do? #Duolingo365 https://t.co/9CUHhGA5Fz',\n",
       " 'Look how much I learned on Duolingo in 2022! How did you do? #Duolingo365 https://t.co/YDXTQeaPii',\n",
       " '😆 I’m a Superstar Learner! What’s your Duolingo learner style? #Duolingo365 https://t.co/Rq0BoJBnzg',\n",
       " 'Look how much I learned on Duolingo in 2022! How did you do? #Duolingo365 https://t.co/oGWJeblpZs',\n",
       " 'Look how much I learned on Duolingo in 2022! How did you do? #Duolingo365 https://t.co/8NsjcOwSup',\n",
       " 'Look how much I learned on Duolingo in 2022! How did you do? #Duolingo365 https://t.co/ykgY2kEZfR',\n",
       " 'Digital Strategy: Why leave it to a specialized company? (10 Benefits)\\nMust Read Once: https://t.co/xvBDJGPoZd\\n#MARESP #PORSUI #MORSPA #Duolingo365 https://t.co/5xAa9nkFcl',\n",
       " 'Look how much I learned on Duolingo in 2022! How did you do? #Duolingo365 https://t.co/588TDbZezR',\n",
       " 'Look how much I learned on Duolingo in 2022! How did you do? #Duolingo365 https://t.co/N527CyU7L9',\n",
       " 'I’m a Galactic Legend! What’s your Duolingo learner style? #Duolingo365 https://t.co/ct4XCaZZ8A',\n",
       " 'I’m a Galactic Legend! What’s your Duolingo learner style? #Duolingo365 https://t.co/NyFW0Jhmjy',\n",
       " 'Look how much I learned on Duolingo in 2022! How did you do? #Duolingo365 https://t.co/Tdxbp6dofg',\n",
       " 'Look how much I learned on Duolingo in 2022! How did you do? #Duolingo365 https://t.co/9oQ80fYFSt',\n",
       " 'Look how much I learned on Duolingo in 2022! How did you do? #Duolingo365 https://t.co/ZTtPHa2v2D',\n",
       " 'I’m a Galactic Legend! What’s your Duolingo learner style? #Duolingo365 https://t.co/FlDa8GAm5b',\n",
       " 'Look how much I learned on Duolingo in 2022! How did you do? #Duolingo365 https://t.co/aRAyyJ6NQc',\n",
       " 'Look how much I learned on Duolingo in 2022! How did you do? #Duolingo365 https://t.co/eWxDdGGxaf',\n",
       " 'wow increíble\\n\\nLook how much I learned on Duolingo in 2022! How did you do? #Duolingo365 https://t.co/LZAcs1rgwv',\n",
       " 'Look how much I learned on Duolingo in 2022! How did you do? #Duolingo365\\nHoly shit that’s a lot https://t.co/ArhZ4dJDcc',\n",
       " 'Look how much I learned on Duolingo in 2022! How did you do? #Duolingo365 https://t.co/Scy97TWDGe',\n",
       " 'Look how much I learned on Duolingo in 2022! How did you do? #Duolingo365 https://t.co/UkoCPihbUY',\n",
       " 'I’m one of the elite learners on Duolingo. #Duolingo365 https://t.co/c8APumWTTX',\n",
       " 'I’m a Polyglot Pupil! What’s your Duolingo learner style? #Duolingo365 https://t.co/WupAYaUNJp',\n",
       " 'Look how much I learned on Duolingo in 2022! How did you do? #Duolingo365 ✨🤓❤️ https://t.co/w6PbpdLfuX',\n",
       " 'Look how much I learned on Duolingo in 2022! How did you do? #Duolingo365 https://t.co/HYx8DdyHTv',\n",
       " 'Look how much I learned on Duolingo in 2022! How did you do? #Duolingo365 \\n\\nSpotify Wrapped whomstve https://t.co/mUINrNTh3K',\n",
       " 'Look how much I learned on Duolingo in 2022! How did you do? #Duolingo365 https://t.co/eyvu3nYCNr',\n",
       " \"Duolinos new update sucks but I'm certainly not giving up any time soon #Duolingo365 https://t.co/zapshxqkkw\",\n",
       " 'Look how much I learned on Duolingo in 2022! How did you do? #Duolingo365 https://t.co/4cBfs66wIs',\n",
       " 'Look how much I learned on Duolingo in 2022! How did you do? #Duolingo365 https://t.co/byuKIGP9KS',\n",
       " 'Look how much I learned on Duolingo in 2022! How did you do? #Duolingo365 https://t.co/vQ7WpmAIYO',\n",
       " 'Look how much I learned on Duolingo in 2022! How did you do? #Duolingo365 https://t.co/JUzSecwobg',\n",
       " 'I’m a Galactic Legend! What’s your Duolingo learner style? #Duolingo365 https://t.co/mkNGasmtNO',\n",
       " 'Look how much I learned on Duolingo in 2022! How did you do? #Duolingo365 https://t.co/vr2nf3pN7r',\n",
       " 'Look how much I learned on Duolingo in 2022! How did you do? #Duolingo365 https://t.co/ftMgeDsZZa',\n",
       " 'Look how much I learned on Duolingo in 2022! How did you do? #Duolingo365 https://t.co/LbzDbmxazz',\n",
       " 'I’m a Galactic Legend! What’s your Duolingo learner style? #Duolingo365 https://t.co/2QPLv9TOH0',\n",
       " 'I’m a Galactic Legend! What’s your Duolingo learner style? #Duolingo365 https://t.co/1rNwK1saSJ',\n",
       " 'Look how much I learned on Duolingo in 2022! How did you do? #Duolingo365 https://t.co/QhIDQaSgMz',\n",
       " 'Look how much I learned on Duolingo in 2022! How did you do? #Duolingo365 https://t.co/reNszj3fmC',\n",
       " 'Look how much I learned on Duolingo in 2022! How did you do? #Duolingo365 https://t.co/VfcoOWzf4h',\n",
       " 'Look how much I learned on Duolingo in 2022! How did you do? #Duolingo365 https://t.co/6eAyFjlWzW',\n",
       " 'Look how much I learned on Duolingo in 2022! How did you do? #Duolingo365 https://t.co/0JPXe6aNoy',\n",
       " 'Look how much I learned on Duolingo in 2022! How did you do? #Duolingo365 https://t.co/LTFELEOEor',\n",
       " 'Look how much I learned on Duolingo in 2022! How did you do? #Duolingo365 https://t.co/SIPRoBBW2k',\n",
       " 'Look how much I learned on Duolingo in 2022! How did you do? #Duolingo365 https://t.co/hQuFZ6SPLh',\n",
       " 'I can do better 🙃 Look how much I learned on Duolingo in 2022! How did you do? #Duolingo365 https://t.co/FxUaSt3iew',\n",
       " 'Look how much I learned on Duolingo in 2022! How did you do? #Duolingo365 https://t.co/f53qFoAR7z',\n",
       " 'Look how much I learned on Duolingo in 2022! How did you do? #Duolingo365 https://t.co/t4Jg2ht72P',\n",
       " 'Look how much I learned on Duolingo in 2022! How did you do? #Duolingo365 https://t.co/tXH5I0b6rQ',\n",
       " 'I’m a Superstar Learner! What’s your Duolingo learner style? #Duolingo365 https://t.co/pB45gL5Sng',\n",
       " 'Look how much I learned on Duolingo in 2022! How did you do? #Duolingo365 https://t.co/hm6aU1GO31',\n",
       " 'I’m a Superstar Learner! What’s your Duolingo learner style? #Duolingo365 https://t.co/MkzAAK1c9B',\n",
       " 'Look how much I learned on Duolingo in 2022! How did you do? #Duolingo365 https://t.co/bOmKCIgP3B',\n",
       " 'Look at the news! I just download it! Great app called Temu!\\n\\nhttps://t.co/cnJzpubpOv\\n#Duolingo365',\n",
       " 'I’m a Learning Legend! What’s your Duolingo learner style? #Duolingo365 https://t.co/xiWvGV1Z45',\n",
       " 'Look how much I learned on Duolingo in 2022! How did you do? #Duolingo365 https://t.co/zyzHnZdsZv',\n",
       " 'Look how much I learned on Duolingo in 2022! How did you do? #Duolingo365 https://t.co/l1JdZk0Yid',\n",
       " 'Look how much I learned on Duolingo in 2022! How did you do? #Duolingo365 https://t.co/FUQSnXgAhB',\n",
       " 'I am apparently a Galactic Legend at duolingo this year 🦉#Duolingo365 https://t.co/rWG5ldCPVC',\n",
       " 'Look how much I learned on Duolingo in 2022! How did you do? #Duolingo365 https://t.co/Mso6DQIhM1',\n",
       " 'Look how much I learned on Duolingo in 2022! How did you do? #Duolingo365 https://t.co/MH4paZ34OD',\n",
       " 'Look how much I learned on Duolingo in 2022! How did you do? #Duolingo365 https://t.co/aAvn6ZFejP',\n",
       " 'Look how much I learned on Duolingo in 2022! How did you do? #Duolingo365 https://t.co/RLBp9c6Nc2',\n",
       " 'Look how much I learned on Duolingo in 2022! How did you do? #Duolingo365 https://t.co/eduVhGGx6v',\n",
       " \"I only started learning Danish a month or so ago so really suprised to be in the top 4%. We're off to Norway next so I'll be starting that tomorrow 😅 never going to be fluent in these but it's nice to have enough to get by #Duolingo365 https://t.co/BgLW6Q5Dmc\",\n",
       " 'WAKE UP BABE DUOLINGO WRAPPED JUST DROPPED #Duolingo365 https://t.co/UG5wpkRWkR',\n",
       " 'I’m a Learning Legend! What’s your Duolingo learner style? #Duolingo365\\n\\nSnap https://t.co/ncqEvjWiMB',\n",
       " 'Look how much I learned on Duolingo in 2022! How did you do? #Duolingo365 https://t.co/ACNEtUSwv9',\n",
       " 'Not bad for somone who just started..\\n\\n  #Duolingo365 https://t.co/5xK2iek4E1',\n",
       " 'Need the REWARD #Duolingo365 https://t.co/jej45mFYpp',\n",
       " 'Look how much I learned on Duolingo in 2022! How did you do? #Duolingo365 https://t.co/Z8dugMPLAw',\n",
       " 'I’m a Wide-Eyed Newcomer! What’s your Duolingo learner style? #Duolingo365 https://t.co/p7wAxSRevT',\n",
       " 'Look how much I learned on Duolingo in 2022! How did you do? #Duolingo365 https://t.co/S1Qr7h0OZD',\n",
       " 'Sucker for a bit of gamification #Duolingo365 https://t.co/7aqcfDzLNd',\n",
       " '\"Words learned\" is not accurate but pretty happy about this 💃 #Duolingo365 https://t.co/DAyn8pEEXv',\n",
       " 'Look how much I learned on Duolingo in 2022! How did you do? #Duolingo365 https://t.co/cexLyzoRZQ',\n",
       " \"'Galactic Legend' sounds cool. Thanks #Duolingo ! \\nGuess I'll save this and take it slow from now on. \\n#Duolingo365 #languagelearning #Wednesday #languages https://t.co/q3f9DOHsfm\",\n",
       " 'Look how much I learned on Duolingo in 2022! How did you do? #Duolingo365 https://t.co/aMtrO3S3hd',\n",
       " 'Look how much I learned on Duolingo in 2022! How did you do? #Duolingo365 https://t.co/nhdRqulFJd',\n",
       " 'Look how much I learned on Duolingo in 2022! How did you do? #Duolingo365 https://t.co/4KpnzP5HJM',\n",
       " 'Look how much I learned on Duolingo in 2022! How did you do? #Duolingo365 https://t.co/1502jFKWpl',\n",
       " 'Look how much I learned on Duolingo in 2022! How did you do? #Duolingo365 https://t.co/CnJe9FWIi0',\n",
       " 'I’m a Superstar Learner! What’s your Duolingo learner style? #Duolingo365 https://t.co/S1c9SOwoth',\n",
       " 'Look how much I learned on Duolingo in 2022! How did you do? #Duolingo365 https://t.co/eYFdiOvIxq',\n",
       " 'Look how much I learned on Duolingo in 2022! How did you do? #Duolingo365 https://t.co/3wCkniFGRl',\n",
       " 'I’m a Galactic Legend! What’s your Duolingo learner style? #Duolingo365\\n\\nMR WORLDWIDE https://t.co/zT4ep1oDQH',\n",
       " 'Look how much I learned on Duolingo in 2022! How did you do? #Duolingo365 https://t.co/DFVX35hNUp',\n",
       " 'oh sweet #Duolingo365 https://t.co/RjcSE7VfSB',\n",
       " 'Look how much I learned on Duolingo in 2022! How did you do? #Duolingo365 @duolingo https://t.co/STlkRRGfg0',\n",
       " 'I’m a Long Streaker! What’s your Duolingo learner style? #Duolingo365 https://t.co/DonPLzmhPJ',\n",
       " 'Look how much I learned on Duolingo in 2022! How did you do? #Duolingo365 https://t.co/K1BgIWRqoR',\n",
       " 'Look how much I learned on Duolingo in 2022! How did you do? #Duolingo365 https://t.co/qpagVIu6vQ',\n",
       " 'Look how much I learned on Duolingo in 2022! How did you do? #Duolingo365 https://t.co/chBqHDIlcj',\n",
       " 'Look how much I learned on Duolingo in 2022! How did you do? #Duolingo365 https://t.co/taAzYYbNTT',\n",
       " 'Look how much I learned on Duolingo in 2022! How did you do? #Duolingo365 https://t.co/VnujsezX97',\n",
       " 'Best Healthy Breakfast Foods to Eat\\nRead  More:\\nhttps://t.co/uf1xT5Ag09\\n\\n#Duolingo365 #MHA375 #PeoplesChoiceAwards  #Genshinlmpact #SleighPalGiveaway #Walker #GArunoff  #Wednesday  #wednesdayclub  #wednesdaydance  #USA  #TrumpCrimeFamily  #foodies https://t.co/KV3pSbANJu',\n",
       " 'Look how much I learned on Duolingo in 2022! How did you do? #Duolingo365\\n🤌🏽 https://t.co/TMTw2jTSST']"
      ]
     },
     "execution_count": 19,
     "metadata": {},
     "output_type": "execute_result"
    }
   ],
   "source": [
    "tweets_duolingo"
   ]
  },
  {
   "cell_type": "code",
   "execution_count": 20,
   "id": "e1d4b374",
   "metadata": {},
   "outputs": [
    {
     "data": {
      "text/plain": [
       "[<Tweet id=1600455592732028928 text='No one is offended by my sexy outfits - even families take selfies with me, ‘World Cup’s hottest fan’ tells Piers Morgan\\n#Sports_Athletics\\n#cups #families #fan #hottest #Morgan #offended #Outfits #piers #Selfies #Sexy #tells #World #Sports_Athletics #...\\nhttps://t.co/0DfyzTUO4Y'>,\n",
       " <Tweet id=1600421043209838592 text='Police get court remand for three gold scam and robbery suspects.\\n\\nEnjoy reading more news articles here 👇🏼👇🏼\\n\\nhttps://t.co/lhNQTyvcpR of Ghana|#Ronaldo|#Piers Morgan|#Africa|#UPSA|#Penaldo|#Ghana Card#Nonsense|#Mahama|#Kumasi|#Nigerians|#Cathedral|#CitiCBS|#Jamzalbum|#Felix'>,\n",
       " <Tweet id=1600420628074401792 text='Amazon will pay you $2 per month to track your phone traffic.\\n\\nEnjoy reading more news articles here 👇🏼👇🏼\\n\\nhttps://t.co/Xy5CfAuQrL\\n#Mahama|#Bank of Ghana|#Ronaldo|#Piers Morgan|#Africa|#UPSA|#Penaldo|#Ghana Card#Nonsense|#Mahama|#Kumasi|#Nigerians|#Cathedral|#CitiCBS|#Jamzalbum'>,\n",
       " <Tweet id=1600292894967234560 text='I will create fix and integrate stripe payment gateway and Shopify payment method to your online store.\\n\\nStripe is an easy -to- use payment gateway \\nhttps://t.co/D7l9y438SM\\n\\n#GOAT𓃵 \\n#Twittershutdown \\n#Ronaldo \\n#Piers Morgan\\n#Elon Musk https://t.co/7NzPd0NgBp'>,\n",
       " <Tweet id=1600291810102120448 text='If you are looking to create a Shopify store or convert an existing site into a Shopify store, I can help.\\nhttps://t.co/2YZnwiAg71\\n\\n#GOAT𓃵 \\n#Twittershutdown \\n#Ronaldo \\n#Piers Morgan\\n#Elon Musk https://t.co/3eRSGDoHgX'>,\n",
       " <Tweet id=1600290809332367360 text='I will provide customized and personalized Email template to increase your email engagement and conversion rate with Tailored content for all your templates.\\nhttps://t.co/QARejOcUiM\\n\\n#GOAT𓃵 \\n#Twittershutdown \\n#Ronaldo \\n#Piers Morgan\\n#Elon Musk https://t.co/iBUkBj66lG'>,\n",
       " <Tweet id=1600289734475005954 text='You need to get affiliate marketing for your web site and marketing funnel. You are in a hurry to join the affiliate marketing business,\\nhttps://t.co/FcIV9iQz10\\n\\n#GOAT𓃵 \\n#Twittershutdown \\n#Ronaldo \\n#Piers Morgan\\n#Elon Musk https://t.co/0nwlPZocq1'>,\n",
       " <Tweet id=1600286870415544320 text='catchy and eye catching. If you are looking for a unique brand and want to stand out from the crowd then contact me today, you will be glad you did!\\nhttps://t.co/VDifNqrGxO\\n\\n#GOAT𓃵 \\n#Twittershutdown \\n#Ronaldo \\n#Piers Morgan\\n#Elon Musk https://t.co/mQA3ZD1BaK'>,\n",
       " <Tweet id=1600263324502892544 text='Amazon will pay you $2 per month to track your phone traffic.\\n\\nEnjoy reading more news articles here 👇🏼👇🏼\\n\\nhttps://t.co/Xy5CfAuQrL\\n\\n#Mahama|#Bank of Ghana|#Ronaldo|#Piers Morgan|#Africa|#UPSA|#Penaldo|#Ghana Card'>,\n",
       " <Tweet id=1600257146016628736 text='I have the ability of getting sales into your website if only you are ready to go with my marketing strategy.\\n\\nhttps://t.co/Qf543eMaGt\\n\\n#GOAT𓃵 \\n#Twittershutdown \\n#Ronaldo \\n#Piers Morgan\\n#Elon Musk https://t.co/IFsevVD5ts'>,\n",
       " <Tweet id=1600251674429267968 text=\"Many businesses get bankrupt based on some limitations in their website. Don't struggle much on sales and the problem encountered by your site. I will help in doing all that at the best energy.\\nhttps://t.co/u1yF99jufv\\n\\n#GOAT𓃵 \\n#Twittershutdown \\n#Ronaldo \\n#Piers Morgan\\n#Elon Musk https://t.co/dI8olQe3E7\">,\n",
       " <Tweet id=1600217354620633089 text=\"So Portugal can bench Ronaldo...\\n\\nBut Ghana and Otto Addo can't bench Baba, Dede Ayew and Jordan\\n\\n#Ronaldo\\n#piers Morgan\\n#ramos\\n#FIFAWorldCup \\n#Morocco\">,\n",
       " <Tweet id=1600202502577606656 text='I blame #piers Morgan for the demise of Ronaldo. Making him believe he was bigger than club and country. More of an ass than a goat'>,\n",
       " <Tweet id=1600201799159332864 text='Live:Portugal vs Switzerland-Preview,prediction and winning probability\\n https://t.co/UOiKhu44a6\\n\\n #Mahama|#Kepa|#Thiago|#De Gea|#Bono|#Ramos|#Sark\"|#Piers Morgan|#Bank of Ghana|#Kurt Okraku|#ronaldointerview'>,\n",
       " <Tweet id=1600049415665766401 text='#Piers Morgan actually thought he stood a chance with Meghan Markle! 😄😆🤣😂😂😂😂😂😂 😂😂#Deluded'>,\n",
       " <Tweet id=1599850766407241743 text=\"Piers Morgan goes off on 'Harry &amp; Meghan' Netflix show, slams 'disgraceful' comparisons to Princess Diana... https://t.co/c31y2kSG7D #piers #morgan #goes #off #on #harry #&amp; #meghan #netflix #show #slams #disgraceful #comparisons #to #princess #diana\">,\n",
       " <Tweet id=1599827477119275008 text=\"I was watching #Andrew Tate #Piers Morgan's interview and I was chilling.  I thought I would sleep.  Dad said he will watch the game.  Last minute game between #Japan and #Croatia.  It felt good.  But sleep tata bye bye.\">,\n",
       " <Tweet id=1599399381614047232 text=\"Piers Morgan reignites 'feud' with ex-ITV boss Carolyn McCall as she discusses Meghan Markle bust-up\\n#Entertainment #TV\\n#BOSS #bustup #Carolyn #Discusses #exITV #feud #Markle #McCall #Meghan #Morgan #piers #Reignites #Entertainment #TV #BOSS #bustup #...\\nhttps://t.co/19mEi1qoF1\">,\n",
       " <Tweet id=1599320079291895809 text='#Piers Morgan, prietenul lui Ronaldo, a reacționat imediat după ce a văzut cum a jucat Messi: Calmați-vă! https://t.co/XCQWEefwzn'>,\n",
       " <Tweet id=1599105698276614144 text='Piers Morgan tells Arsenal to sign Holland World Cup star in January transfer window to compliment Gabriel Jesus\\n#Sports_Athletics\\n#Arsenal #Compliment #Cup #Gabriel #Holland #January #Jesus #Morgan #piers #Sign #star #tells #transfer #window #World #...\\nhttps://t.co/LKnkwGH2Ub'>,\n",
       " <Tweet id=1598954953451900934 text=\"Piers Morgan reveals text Cristiano Ronaldo sent him minutes after Man Utd exit with Portugal star thrilled to be 'free'\\n#Sports_Athletics\\n#Cristiano #exit #Free #Man #minutes #Morgan #piers #Portugal #reveals #Ronaldo #star #Text #thrilled #Utd #Spor...\\nhttps://t.co/QALNjBEX5A\">,\n",
       " <Tweet id=1598769564430569478 text='Piers Morgan says ‘antisemitic and homophobic’ Kanye West ‘lost the plot’ #Piers #Morgan #antisemitic #homophobic #Kanye #West #lost #plot [#SurvivorSeries] Thanksgiving, Group F , #StarMagicalChristmas , Roast Potatoes , England , #GERESP , Canadians ,… https://t.co/lzyEgEhWFH'>,\n",
       " <Tweet id=1598769554733338625 text='Piers Morgan says ‘antisemitic and homophobic’ Kanye West ‘lost the plot’ #Piers #Morgan #antisemitic #homophobic #Kanye #West #lost #plot [#SurvivorSeries] Thanksgiving, Group F , #StarMagicalChristmas , Roast Potatoes , England , #GERESP , Canadians ,… https://t.co/6qlvcc2amB'>,\n",
       " <Tweet id=1598553400920219648 text=\"Piers Morgan blasts Harry and Meghan for 'kiss and tell' Netflix documentary series #Piers #Morgan #blasts #Harry #Meghan #039kiss #tell039 #Netflix #documentary #series [#SurvivorSeries] Thanksgiving, Group F , #StarMagicalChristmas , Roast Potatoes ,… https://t.co/JcOhKOjn0Q\">,\n",
       " <Tweet id=1598346418049220611 text=\"Piers Morgan savages Harry and Meghan for 'kiss and tell' Netflix documentary series #Piers #Morgan #savages #Harry #Meghan #039kiss #tell039 #Netflix #documentary #series [#SurvivorSeries] Thanksgiving, Group F , #StarMagicalChristmas , Roast Potatoes ,… https://t.co/QJCDWv63Ag\">,\n",
       " <Tweet id=1598346391943876610 text=\"Piers Morgan savages Harry and Meghan for 'kiss and tell' Netflix documentary series #Piers #Morgan #savages #Harry #Meghan #039kiss #tell039 #Netflix #documentary #series [#SurvivorSeries] Thanksgiving, Group F , #StarMagicalChristmas , Roast Potatoes ,… https://t.co/OVR94DfFCw\">,\n",
       " <Tweet id=1598323795776966660 text='Piers Morgan slams Meghan Markle &amp; Prince Harry’s Netflix documentary as ‘repulsive’ after ‘hypocritical’ trailer\\n#Celebrities #Entertainment\\n#Documentary #Harrys #hypocritical #Markle #Meghan #Morgan #Netflix #piers #Prince #repulsive #slams #Trailer...\\nhttps://t.co/DcV3mvUmjc'>,\n",
       " <Tweet id=1598314484157845505 text='Harry and Meghan Netflix trailer: Piers Morgan blasts first look\\n#Entertainment #TV\\n#Blasts #Harry #Meghan #Morgan #Netflix #piers #Trailer #Entertainment #TV #Blasts #Harry #Meghan #Morgan #Netflix #piers #Trailer\\nhttps://t.co/iGEPc25Kr9'>,\n",
       " <Tweet id=1598250921368199170 text=\"Piers Morgan confronts Matt Hancock at airport and says he would have 'given him a kicking' #Piers #Morgan #confronts #Matt #Hancock #airport #039given #kicking039 [#SurvivorSeries] Thanksgiving, Group F , #StarMagicalChristmas , Roast Potatoes , England… https://t.co/fOfrXMgxg1\">,\n",
       " <Tweet id=1598250901562613760 text=\"Piers Morgan confronts Matt Hancock at airport and says he would have 'given him a kicking' #Piers #Morgan #confronts #Matt #Hancock #airport #039given #kicking039 [#SurvivorSeries] Thanksgiving, Group F , #StarMagicalChristmas , Roast Potatoes , England… https://t.co/i2O0tk3JhL\">,\n",
       " <Tweet id=1598240945551867904 text='Don’t let your Girlfriend or Boyfriend know the full story of your family, even if na ur “Wife to be or Husband to be”, Una fit no later marry each other. Use your brain 🧠😏👌\\n\\n#Young John #Round of 16 #Piers Morgan #PHYNA IN QATAR'>,\n",
       " <Tweet id=1598231371918573568 text='Piers Morgan confronts I’m A Celeb’s Matt Hancock at airport ‘Giving him a good kicking’ | Celebrity News | Showbiz &amp; TV #Piers #Morgan #confronts #Celebs #Matt #Hancock #airport #Giving #good #kicking #Celebrity #News #Showbiz [#SurvivorSeries]… https://t.co/jVtLbAdyUC'>,\n",
       " <Tweet id=1598231352813522944 text='Piers Morgan confronts I’m A Celeb’s Matt Hancock at airport ‘Giving him a good kicking’ | Celebrity News | Showbiz &amp; TV #Piers #Morgan #confronts #Celebs #Matt #Hancock #airport #Giving #good #kicking #Celebrity #News #Showbiz [#SurvivorSeries]… https://t.co/svQfxF8l41'>]"
      ]
     },
     "execution_count": 20,
     "metadata": {},
     "output_type": "execute_result"
    }
   ],
   "source": [
    "morgan_data = client.search_recent_tweets(\n",
    "    query = \"#Piers Morgan -is:retweet\",\n",
    "    max_results = 100\n",
    ")\n",
    "morgan_data.data"
   ]
  },
  {
   "cell_type": "code",
   "execution_count": 37,
   "id": "7428a7f3",
   "metadata": {},
   "outputs": [],
   "source": [
    "# create function\n",
    "# grab random keywords from sentence\n",
    "import random\n",
    "\n",
    "def setup_features(text):\n",
    "    # create array of keywords\n",
    "    # make text lowercase\n",
    "    text = text.lower()\n",
    "    # split the text into an array of words\n",
    "    words_list = text.split()\n",
    "    # this isn#t nessecary but make the next part shorter\n",
    "    # .words('english') is a function from stopwords library only get english words\n",
    "    # ignore the useless words\n",
    "    # // to ingore the url\n",
    "    s_words = stopwords.words('english')\n",
    "    characters_ihate = ['@','-','//','#']\n",
    "    keywords = [term for term in words_list if term not in s_words and not any (characters in term for characters in characters_ihate)]\n",
    "    # s_words.extend(characters_ihate)\n",
    "    # keywords = [ term for term in words_list if term not in s_words and '!' not in term and 'http' not in term]\n",
    "    # incase some tweets don't have 3 keywords, just add nothing to keep the format of 3 keywords\n",
    "    # 3 is the number decided by ourselves, and can try to find out different results\n",
    "    # if keywords more than 3, only gather first 3 keywords, and just ignore the rest of the keywords\n",
    "    random.shuffle(keywords)\n",
    "    while len (keywords)<3:\n",
    "        keywords.append('Nothing')\n",
    "    return {'first_keyword': keywords[0],'second_keyword': keywords[1],'third_keyword': keywords[2]}\n"
   ]
  },
  {
   "cell_type": "code",
   "execution_count": 38,
   "id": "b37503a9",
   "metadata": {},
   "outputs": [],
   "source": [
    "# create a list of tuples containing the featurest and the label\n",
    "# features and label list will contain my features and my label\n",
    "features_and_labels = []\n",
    "for tweet in tweets_duolingo:\n",
    "    features_and_labels.append(  (setup_features(tweet),'Duolingo')  )"
   ]
  },
  {
   "cell_type": "code",
   "execution_count": 39,
   "id": "6275a927",
   "metadata": {},
   "outputs": [],
   "source": [
    "# always shuffle your features and labels\n",
    "random.shuffle(features_and_labels)\n",
    "    "
   ]
  },
  {
   "cell_type": "code",
   "execution_count": 40,
   "id": "82238289",
   "metadata": {},
   "outputs": [
    {
     "data": {
      "text/plain": [
       "78"
      ]
     },
     "execution_count": 40,
     "metadata": {},
     "output_type": "execute_result"
    }
   ],
   "source": [
    "# split 80:20 training data and testing data\n",
    "\n",
    "import math\n",
    "\n",
    "# gethow many elements in my list is 80%\n",
    "split_num = math.floor(len(features_and_labels)* .8)\n",
    "split_num"
   ]
  },
  {
   "cell_type": "code",
   "execution_count": 41,
   "id": "b479fffc",
   "metadata": {},
   "outputs": [],
   "source": [
    "# 80% of my data\n",
    "training_set = features_and_labels[:split_num]\n",
    "# 20% of my data\n",
    "testing_set = features_and_labels[:split_num]"
   ]
  },
  {
   "cell_type": "code",
   "execution_count": 42,
   "id": "f85a7c9e",
   "metadata": {},
   "outputs": [
    {
     "ename": "NameError",
     "evalue": "name 'my_classifier' is not defined",
     "output_type": "error",
     "traceback": [
      "\u001b[1;31m---------------------------------------------------------------------------\u001b[0m",
      "\u001b[1;31mNameError\u001b[0m                                 Traceback (most recent call last)",
      "Cell \u001b[1;32mIn[42], line 4\u001b[0m\n\u001b[0;32m      1\u001b[0m \u001b[38;5;28;01mimport\u001b[39;00m \u001b[38;5;21;01mnltk\u001b[39;00m\n\u001b[0;32m      2\u001b[0m \u001b[38;5;66;03m# create our classifier\u001b[39;00m\n\u001b[0;32m      3\u001b[0m \u001b[38;5;66;03m# my baseline is 50% because I have two labels/outcomes\u001b[39;00m\n\u001b[1;32m----> 4\u001b[0m \u001b[43mmy_classifier\u001b[49m\u001b[38;5;241m.\u001b[39mclassify(setup_features(\u001b[38;5;124m\"\u001b[39m\u001b[38;5;124m \u001b[39m\u001b[38;5;124m\"\u001b[39m))\n",
      "\u001b[1;31mNameError\u001b[0m: name 'my_classifier' is not defined"
     ]
    }
   ],
   "source": [
    "import nltk\n",
    "# create our classifier\n",
    "# my baseline is 50% because I have two labels/outcomes\n",
    "my_classifier.classify(setup_features(\" \"))\n"
   ]
  },
  {
   "cell_type": "code",
   "execution_count": 32,
   "id": "71b72c2f",
   "metadata": {},
   "outputs": [
    {
     "ename": "NameError",
     "evalue": "name 'my_classifier' is not defined",
     "output_type": "error",
     "traceback": [
      "\u001b[1;31m---------------------------------------------------------------------------\u001b[0m",
      "\u001b[1;31mNameError\u001b[0m                                 Traceback (most recent call last)",
      "Cell \u001b[1;32mIn[32], line 2\u001b[0m\n\u001b[0;32m      1\u001b[0m \u001b[38;5;66;03m# test our accuracy\u001b[39;00m\n\u001b[1;32m----> 2\u001b[0m nltk\u001b[38;5;241m.\u001b[39mclassify\u001b[38;5;241m.\u001b[39maccuracy(\u001b[43mmy_classifier\u001b[49m,testing_set)\n",
      "\u001b[1;31mNameError\u001b[0m: name 'my_classifier' is not defined"
     ]
    }
   ],
   "source": [
    "# test our accuracy\n",
    "nltk.classify.accuracy(my_classifier,testing_set)"
   ]
  },
  {
   "cell_type": "code",
   "execution_count": null,
   "id": "4ed7fa28",
   "metadata": {},
   "outputs": [],
   "source": []
  }
 ],
 "metadata": {
  "kernelspec": {
   "display_name": "Python 3 (ipykernel)",
   "language": "python",
   "name": "python3"
  },
  "language_info": {
   "codemirror_mode": {
    "name": "ipython",
    "version": 3
   },
   "file_extension": ".py",
   "mimetype": "text/x-python",
   "name": "python",
   "nbconvert_exporter": "python",
   "pygments_lexer": "ipython3",
   "version": "3.11.0"
  }
 },
 "nbformat": 4,
 "nbformat_minor": 5
}
