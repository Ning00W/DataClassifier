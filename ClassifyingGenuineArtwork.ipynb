{
 "cells": [
  {
   "cell_type": "code",
   "execution_count": 62,
   "id": "2e50c79c",
   "metadata": {},
   "outputs": [],
   "source": [
    "\n",
    "import json\n",
    "import requests\n",
    "from nltk.corpus import stopwords # stopword examples, 'its', 'on', 'the', etc <---- will be helpful later\n",
    "# most pythonistas will rename pandas as pd, numpy as np, and datetime as dt for short (you don't have to)\n",
    "import pandas as pd\n",
    "import numpy as np\n",
    "import datetime as dt"
   ]
  },
  {
   "cell_type": "code",
   "execution_count": 65,
   "id": "ec51d6b6",
   "metadata": {},
   "outputs": [],
   "source": [
    "path = 'art.csv'\n",
    "painting = pd.read_csv(path)"
   ]
  },
  {
   "cell_type": "code",
   "execution_count": 66,
   "id": "d677902f",
   "metadata": {},
   "outputs": [
    {
     "data": {
      "text/html": [
       "<div>\n",
       "<style scoped>\n",
       "    .dataframe tbody tr th:only-of-type {\n",
       "        vertical-align: middle;\n",
       "    }\n",
       "\n",
       "    .dataframe tbody tr th {\n",
       "        vertical-align: top;\n",
       "    }\n",
       "\n",
       "    .dataframe thead th {\n",
       "        text-align: right;\n",
       "    }\n",
       "</style>\n",
       "<table border=\"1\" class=\"dataframe\">\n",
       "  <thead>\n",
       "    <tr style=\"text-align: right;\">\n",
       "      <th></th>\n",
       "      <th>Name</th>\n",
       "      <th>Genuine</th>\n",
       "      <th>Category</th>\n",
       "      <th>Buy</th>\n",
       "      <th>Sell</th>\n",
       "      <th>Color 1</th>\n",
       "      <th>Color 2</th>\n",
       "      <th>Size</th>\n",
       "      <th>Real Artwork Title</th>\n",
       "      <th>Artist</th>\n",
       "      <th>...</th>\n",
       "      <th>HHA Series</th>\n",
       "      <th>HHA Set</th>\n",
       "      <th>Interact</th>\n",
       "      <th>Tag</th>\n",
       "      <th>Speaker Type</th>\n",
       "      <th>Lighting Type</th>\n",
       "      <th>Catalog</th>\n",
       "      <th>Filename</th>\n",
       "      <th>Internal ID</th>\n",
       "      <th>Unique Entry ID</th>\n",
       "    </tr>\n",
       "  </thead>\n",
       "  <tbody>\n",
       "    <tr>\n",
       "      <th>0</th>\n",
       "      <td>academic painting</td>\n",
       "      <td>Yes</td>\n",
       "      <td>Wall-mounted</td>\n",
       "      <td>4980</td>\n",
       "      <td>1245</td>\n",
       "      <td>None</td>\n",
       "      <td>None</td>\n",
       "      <td>1x1</td>\n",
       "      <td>Vitruvian Man</td>\n",
       "      <td>Leonardo da Vinci, circa 1487, Pen and ink on ...</td>\n",
       "      <td>...</td>\n",
       "      <td>None</td>\n",
       "      <td>None</td>\n",
       "      <td>No</td>\n",
       "      <td>Picture</td>\n",
       "      <td>Does not play music</td>\n",
       "      <td>No lighting</td>\n",
       "      <td>Not for sale</td>\n",
       "      <td>FtrArtVitruvianMan</td>\n",
       "      <td>12619</td>\n",
       "      <td>xfTf9sfyLkxHQEz4u</td>\n",
       "    </tr>\n",
       "    <tr>\n",
       "      <th>1</th>\n",
       "      <td>academic painting</td>\n",
       "      <td>No</td>\n",
       "      <td>Wall-mounted</td>\n",
       "      <td>4980</td>\n",
       "      <td>0</td>\n",
       "      <td>None</td>\n",
       "      <td>None</td>\n",
       "      <td>1x1</td>\n",
       "      <td>Vitruvian Man</td>\n",
       "      <td>Leonardo da Vinci, circa 1487, Pen and ink on ...</td>\n",
       "      <td>...</td>\n",
       "      <td>None</td>\n",
       "      <td>None</td>\n",
       "      <td>No</td>\n",
       "      <td>Picture</td>\n",
       "      <td>Does not play music</td>\n",
       "      <td>No lighting</td>\n",
       "      <td>Not for sale</td>\n",
       "      <td>FtrArtVitruvianManFake</td>\n",
       "      <td>12620</td>\n",
       "      <td>5KNFAo3LkdTTJPQkd</td>\n",
       "    </tr>\n",
       "    <tr>\n",
       "      <th>2</th>\n",
       "      <td>amazing painting</td>\n",
       "      <td>Yes</td>\n",
       "      <td>Wall-mounted</td>\n",
       "      <td>4980</td>\n",
       "      <td>1245</td>\n",
       "      <td>None</td>\n",
       "      <td>None</td>\n",
       "      <td>2x2</td>\n",
       "      <td>The Night Watch</td>\n",
       "      <td>Rembrandt van Rijn, 1642, Oil on canvas</td>\n",
       "      <td>...</td>\n",
       "      <td>None</td>\n",
       "      <td>None</td>\n",
       "      <td>No</td>\n",
       "      <td>Picture</td>\n",
       "      <td>Does not play music</td>\n",
       "      <td>No lighting</td>\n",
       "      <td>Not for sale</td>\n",
       "      <td>FtrArtNightWatch</td>\n",
       "      <td>56</td>\n",
       "      <td>Sg6MCSG3m9tvjGWoj</td>\n",
       "    </tr>\n",
       "    <tr>\n",
       "      <th>3</th>\n",
       "      <td>amazing painting</td>\n",
       "      <td>No</td>\n",
       "      <td>Wall-mounted</td>\n",
       "      <td>4980</td>\n",
       "      <td>0</td>\n",
       "      <td>None</td>\n",
       "      <td>None</td>\n",
       "      <td>2x2</td>\n",
       "      <td>The Night Watch</td>\n",
       "      <td>Rembrandt van Rijn, 1642, Oil on canvas</td>\n",
       "      <td>...</td>\n",
       "      <td>None</td>\n",
       "      <td>None</td>\n",
       "      <td>No</td>\n",
       "      <td>Picture</td>\n",
       "      <td>Does not play music</td>\n",
       "      <td>No lighting</td>\n",
       "      <td>Not for sale</td>\n",
       "      <td>FtrArtNightWatchFake</td>\n",
       "      <td>55</td>\n",
       "      <td>vc2Ebu4Pkn443zYiN</td>\n",
       "    </tr>\n",
       "    <tr>\n",
       "      <th>4</th>\n",
       "      <td>ancient statue</td>\n",
       "      <td>Yes</td>\n",
       "      <td>Miscellaneous</td>\n",
       "      <td>4980</td>\n",
       "      <td>1245</td>\n",
       "      <td>None</td>\n",
       "      <td>None</td>\n",
       "      <td>1x1</td>\n",
       "      <td>Jōmon Period \"Dogū\" Figurine Shakōki-dogū</td>\n",
       "      <td>Artist Unknown, 1000-400 BCE, Fired pottery</td>\n",
       "      <td>...</td>\n",
       "      <td>None</td>\n",
       "      <td>None</td>\n",
       "      <td>No</td>\n",
       "      <td>Sculpture</td>\n",
       "      <td>Does not play music</td>\n",
       "      <td>No lighting</td>\n",
       "      <td>Not for sale</td>\n",
       "      <td>FtrSculptureDoguu</td>\n",
       "      <td>1337</td>\n",
       "      <td>zpAsguge9Yb29ksjS</td>\n",
       "    </tr>\n",
       "    <tr>\n",
       "      <th>...</th>\n",
       "      <td>...</td>\n",
       "      <td>...</td>\n",
       "      <td>...</td>\n",
       "      <td>...</td>\n",
       "      <td>...</td>\n",
       "      <td>...</td>\n",
       "      <td>...</td>\n",
       "      <td>...</td>\n",
       "      <td>...</td>\n",
       "      <td>...</td>\n",
       "      <td>...</td>\n",
       "      <td>...</td>\n",
       "      <td>...</td>\n",
       "      <td>...</td>\n",
       "      <td>...</td>\n",
       "      <td>...</td>\n",
       "      <td>...</td>\n",
       "      <td>...</td>\n",
       "      <td>...</td>\n",
       "      <td>...</td>\n",
       "      <td>...</td>\n",
       "    </tr>\n",
       "    <tr>\n",
       "      <th>65</th>\n",
       "      <td>wild painting right half</td>\n",
       "      <td>Yes</td>\n",
       "      <td>Housewares</td>\n",
       "      <td>4980</td>\n",
       "      <td>1245</td>\n",
       "      <td>None</td>\n",
       "      <td>None</td>\n",
       "      <td>2x1</td>\n",
       "      <td>Folding Screen of Fūjin and Raijin</td>\n",
       "      <td>Tawaraya Sōtatsu, 17th century, Gold leaf and ...</td>\n",
       "      <td>...</td>\n",
       "      <td>None</td>\n",
       "      <td>None</td>\n",
       "      <td>No</td>\n",
       "      <td>Picture</td>\n",
       "      <td>Does not play music</td>\n",
       "      <td>No lighting</td>\n",
       "      <td>Not for sale</td>\n",
       "      <td>FtrArtFuujin</td>\n",
       "      <td>76</td>\n",
       "      <td>rcXt6qMXZh9jj4ojN</td>\n",
       "    </tr>\n",
       "    <tr>\n",
       "      <th>66</th>\n",
       "      <td>wild painting right half</td>\n",
       "      <td>No</td>\n",
       "      <td>Housewares</td>\n",
       "      <td>4980</td>\n",
       "      <td>0</td>\n",
       "      <td>None</td>\n",
       "      <td>None</td>\n",
       "      <td>2x1</td>\n",
       "      <td>Folding Screen of Fūjin and Raijin</td>\n",
       "      <td>Tawaraya Sōtatsu, 17th century, Gold leaf and ...</td>\n",
       "      <td>...</td>\n",
       "      <td>None</td>\n",
       "      <td>None</td>\n",
       "      <td>No</td>\n",
       "      <td>Picture</td>\n",
       "      <td>Does not play music</td>\n",
       "      <td>No lighting</td>\n",
       "      <td>Not for sale</td>\n",
       "      <td>FtrArtFuujinFake</td>\n",
       "      <td>75</td>\n",
       "      <td>aKefsi2sySXJkzPLo</td>\n",
       "    </tr>\n",
       "    <tr>\n",
       "      <th>67</th>\n",
       "      <td>wistful painting</td>\n",
       "      <td>Yes</td>\n",
       "      <td>Wall-mounted</td>\n",
       "      <td>4980</td>\n",
       "      <td>1245</td>\n",
       "      <td>None</td>\n",
       "      <td>None</td>\n",
       "      <td>1x1</td>\n",
       "      <td>Girl with a Pearl Earring</td>\n",
       "      <td>Johannes Vermeer, circa 1665, Oil on canvas</td>\n",
       "      <td>...</td>\n",
       "      <td>None</td>\n",
       "      <td>None</td>\n",
       "      <td>No</td>\n",
       "      <td>Picture</td>\n",
       "      <td>Does not play music</td>\n",
       "      <td>No lighting</td>\n",
       "      <td>Not for sale</td>\n",
       "      <td>FtrArtPearlEarring</td>\n",
       "      <td>28</td>\n",
       "      <td>Mupx2ny4sM3Kbfs3v</td>\n",
       "    </tr>\n",
       "    <tr>\n",
       "      <th>68</th>\n",
       "      <td>wistful painting</td>\n",
       "      <td>No</td>\n",
       "      <td>Wall-mounted</td>\n",
       "      <td>4980</td>\n",
       "      <td>0</td>\n",
       "      <td>None</td>\n",
       "      <td>None</td>\n",
       "      <td>1x1</td>\n",
       "      <td>Girl with a Pearl Earring</td>\n",
       "      <td>Johannes Vermeer, circa 1665, Oil on canvas</td>\n",
       "      <td>...</td>\n",
       "      <td>None</td>\n",
       "      <td>None</td>\n",
       "      <td>No</td>\n",
       "      <td>Picture</td>\n",
       "      <td>Does not play music</td>\n",
       "      <td>No lighting</td>\n",
       "      <td>Not for sale</td>\n",
       "      <td>FtrArtPearlEarringFake</td>\n",
       "      <td>27</td>\n",
       "      <td>c7zw6f8Dbe5h9oJni</td>\n",
       "    </tr>\n",
       "    <tr>\n",
       "      <th>69</th>\n",
       "      <td>worthy painting</td>\n",
       "      <td>Yes</td>\n",
       "      <td>Wall-mounted</td>\n",
       "      <td>4980</td>\n",
       "      <td>1245</td>\n",
       "      <td>None</td>\n",
       "      <td>None</td>\n",
       "      <td>2x1.5</td>\n",
       "      <td>Liberty Leading the People</td>\n",
       "      <td>Eugène Delacroix, 1830, Oil on canvas</td>\n",
       "      <td>...</td>\n",
       "      <td>None</td>\n",
       "      <td>None</td>\n",
       "      <td>No</td>\n",
       "      <td>Picture</td>\n",
       "      <td>Does not play music</td>\n",
       "      <td>No lighting</td>\n",
       "      <td>Not for sale</td>\n",
       "      <td>FtrArtLibertyLeading</td>\n",
       "      <td>68</td>\n",
       "      <td>8R3LhTWJzqHmPPPvK</td>\n",
       "    </tr>\n",
       "  </tbody>\n",
       "</table>\n",
       "<p>70 rows × 26 columns</p>\n",
       "</div>"
      ],
      "text/plain": [
       "                        Name Genuine       Category   Buy  Sell Color 1  \\\n",
       "0          academic painting     Yes   Wall-mounted  4980  1245    None   \n",
       "1          academic painting      No   Wall-mounted  4980     0    None   \n",
       "2           amazing painting     Yes   Wall-mounted  4980  1245    None   \n",
       "3           amazing painting      No   Wall-mounted  4980     0    None   \n",
       "4             ancient statue     Yes  Miscellaneous  4980  1245    None   \n",
       "..                       ...     ...            ...   ...   ...     ...   \n",
       "65  wild painting right half     Yes     Housewares  4980  1245    None   \n",
       "66  wild painting right half      No     Housewares  4980     0    None   \n",
       "67          wistful painting     Yes   Wall-mounted  4980  1245    None   \n",
       "68          wistful painting      No   Wall-mounted  4980     0    None   \n",
       "69           worthy painting     Yes   Wall-mounted  4980  1245    None   \n",
       "\n",
       "   Color 2   Size                         Real Artwork Title  \\\n",
       "0     None    1x1                              Vitruvian Man   \n",
       "1     None    1x1                              Vitruvian Man   \n",
       "2     None    2x2                            The Night Watch   \n",
       "3     None    2x2                            The Night Watch   \n",
       "4     None    1x1  Jōmon Period \"Dogū\" Figurine Shakōki-dogū   \n",
       "..     ...    ...                                        ...   \n",
       "65    None    2x1         Folding Screen of Fūjin and Raijin   \n",
       "66    None    2x1         Folding Screen of Fūjin and Raijin   \n",
       "67    None    1x1                  Girl with a Pearl Earring   \n",
       "68    None    1x1                  Girl with a Pearl Earring   \n",
       "69    None  2x1.5                 Liberty Leading the People   \n",
       "\n",
       "                                               Artist  ... HHA Series HHA Set  \\\n",
       "0   Leonardo da Vinci, circa 1487, Pen and ink on ...  ...       None    None   \n",
       "1   Leonardo da Vinci, circa 1487, Pen and ink on ...  ...       None    None   \n",
       "2             Rembrandt van Rijn, 1642, Oil on canvas  ...       None    None   \n",
       "3             Rembrandt van Rijn, 1642, Oil on canvas  ...       None    None   \n",
       "4         Artist Unknown, 1000-400 BCE, Fired pottery  ...       None    None   \n",
       "..                                                ...  ...        ...     ...   \n",
       "65  Tawaraya Sōtatsu, 17th century, Gold leaf and ...  ...       None    None   \n",
       "66  Tawaraya Sōtatsu, 17th century, Gold leaf and ...  ...       None    None   \n",
       "67        Johannes Vermeer, circa 1665, Oil on canvas  ...       None    None   \n",
       "68        Johannes Vermeer, circa 1665, Oil on canvas  ...       None    None   \n",
       "69              Eugène Delacroix, 1830, Oil on canvas  ...       None    None   \n",
       "\n",
       "    Interact        Tag         Speaker Type Lighting Type       Catalog  \\\n",
       "0         No    Picture  Does not play music   No lighting  Not for sale   \n",
       "1         No    Picture  Does not play music   No lighting  Not for sale   \n",
       "2         No    Picture  Does not play music   No lighting  Not for sale   \n",
       "3         No    Picture  Does not play music   No lighting  Not for sale   \n",
       "4         No  Sculpture  Does not play music   No lighting  Not for sale   \n",
       "..       ...        ...                  ...           ...           ...   \n",
       "65        No    Picture  Does not play music   No lighting  Not for sale   \n",
       "66        No    Picture  Does not play music   No lighting  Not for sale   \n",
       "67        No    Picture  Does not play music   No lighting  Not for sale   \n",
       "68        No    Picture  Does not play music   No lighting  Not for sale   \n",
       "69        No    Picture  Does not play music   No lighting  Not for sale   \n",
       "\n",
       "                  Filename Internal ID    Unique Entry ID  \n",
       "0       FtrArtVitruvianMan       12619  xfTf9sfyLkxHQEz4u  \n",
       "1   FtrArtVitruvianManFake       12620  5KNFAo3LkdTTJPQkd  \n",
       "2         FtrArtNightWatch          56  Sg6MCSG3m9tvjGWoj  \n",
       "3     FtrArtNightWatchFake          55  vc2Ebu4Pkn443zYiN  \n",
       "4        FtrSculptureDoguu        1337  zpAsguge9Yb29ksjS  \n",
       "..                     ...         ...                ...  \n",
       "65            FtrArtFuujin          76  rcXt6qMXZh9jj4ojN  \n",
       "66        FtrArtFuujinFake          75  aKefsi2sySXJkzPLo  \n",
       "67      FtrArtPearlEarring          28  Mupx2ny4sM3Kbfs3v  \n",
       "68  FtrArtPearlEarringFake          27  c7zw6f8Dbe5h9oJni  \n",
       "69    FtrArtLibertyLeading          68  8R3LhTWJzqHmPPPvK  \n",
       "\n",
       "[70 rows x 26 columns]"
      ]
     },
     "execution_count": 66,
     "metadata": {},
     "output_type": "execute_result"
    }
   ],
   "source": [
    "painting"
   ]
  },
  {
   "cell_type": "code",
   "execution_count": 67,
   "id": "b2fd1921",
   "metadata": {},
   "outputs": [
    {
     "data": {
      "text/plain": [
       "0      Wall-mounted\n",
       "1      Wall-mounted\n",
       "2      Wall-mounted\n",
       "3      Wall-mounted\n",
       "4     Miscellaneous\n",
       "          ...      \n",
       "65       Housewares\n",
       "66       Housewares\n",
       "67     Wall-mounted\n",
       "68     Wall-mounted\n",
       "69     Wall-mounted\n",
       "Name: Category, Length: 70, dtype: object"
      ]
     },
     "execution_count": 67,
     "metadata": {},
     "output_type": "execute_result"
    }
   ],
   "source": [
    "painting.Category"
   ]
  },
  {
   "cell_type": "code",
   "execution_count": 68,
   "id": "65027361",
   "metadata": {},
   "outputs": [
    {
     "data": {
      "text/plain": [
       "0            academic painting\n",
       "1            academic painting\n",
       "2             amazing painting\n",
       "3             amazing painting\n",
       "4               ancient statue\n",
       "                ...           \n",
       "65    wild painting right half\n",
       "66    wild painting right half\n",
       "67            wistful painting\n",
       "68            wistful painting\n",
       "69             worthy painting\n",
       "Name: Name, Length: 70, dtype: object"
      ]
     },
     "execution_count": 68,
     "metadata": {},
     "output_type": "execute_result"
    }
   ],
   "source": [
    "painting.Name"
   ]
  },
  {
   "cell_type": "code",
   "execution_count": 101,
   "id": "fb6ee801",
   "metadata": {},
   "outputs": [
    {
     "data": {
      "text/plain": [
       "pandas.core.series.Series"
      ]
     },
     "execution_count": 101,
     "metadata": {},
     "output_type": "execute_result"
    }
   ],
   "source": [
    "type(painting.Name)"
   ]
  },
  {
   "cell_type": "code",
   "execution_count": 69,
   "id": "04b06b46",
   "metadata": {},
   "outputs": [
    {
     "data": {
      "text/plain": [
       "array(['Leonardo da Vinci, circa 1487, Pen and ink on paper',\n",
       "       'Rembrandt van Rijn, 1642, Oil on canvas',\n",
       "       'Artist Unknown, 1000-400 BCE, Fired pottery',\n",
       "       'Thomas Gainsborough, 1770, Oil on canvas',\n",
       "       'Artist Unknown, circa 130 BCE, Marble',\n",
       "       'Georges Seurat, circa 1885, Oil on canvas',\n",
       "       'Jean-François Millet, 1857, Oil on canvas',\n",
       "       'Itō Jakuchū, 18th century, Dyed silk',\n",
       "       'Katsushika Hokusai, circa 1831, Woodblock print',\n",
       "       'Auguste Rodin, 1902, Bronze',\n",
       "       'Leonardo da Vinci, circa 1503, Oil on poplar',\n",
       "       'Vincent van Gogh, circa 1888, Oil on canvas',\n",
       "       'Michelangelo, circa 1504, Marble',\n",
       "       'Joseph Mallord William Turner, 1839, Oil on canvas',\n",
       "       'Hishikawa Moronobu, 17th century, Color on silk',\n",
       "       'Thomas Ridgeway Gould, circa 1883, Bronze',\n",
       "       'Artist Unknown, 196 BCE, Granodiorite',\n",
       "       'Giuseppe Arcimboldo, circa 1563, Oil on canvas',\n",
       "       'Jean-François Millet, circa 1850, Oil on canvas',\n",
       "       'Artist Unknown, 5th century BCE, Bronze',\n",
       "       'Sandro Botticelli, circa 1485, Tempura on canvas',\n",
       "       'Arnold Böcklin, 1883, Oil on wood', 'Thutmose, circa 1345 BCE',\n",
       "       'Édouard Manet, 1866, Oil on canvas',\n",
       "       'Paul Cézanne, circa 1899, Oil on canvas',\n",
       "       'Édouard Manet, circa 1882, Oil on canvas',\n",
       "       'Johannes Vermeer, circa 1658, Oil on canvas',\n",
       "       'Artist Unknown, 2nd century CE, Marble',\n",
       "       'Artist Unknown, circa 1000 BCE, Basalt, andesite',\n",
       "       'Tōshūsai Sharaku, 1794, Woodblock print',\n",
       "       'Pieter Brueghel the Elder, 1565, Oil on wood panel',\n",
       "       'Leonardo da Vinci, circa 1490, Oil on wood panel',\n",
       "       'John Everett Millais, 1852, Oil on canvas',\n",
       "       'Diego Velázquez, circa 1656, Oil on canvas',\n",
       "       'Artist Unknown, 1200 BCE, Bronze',\n",
       "       'Vincent van Gogh, 1889, Oil on canvas',\n",
       "       'Artist Unknown, circa 190 BCE, Marble',\n",
       "       'Francisco de Goya, circa 1805, Oil on canvas',\n",
       "       'Artist Unknown, 210 BCE, Earthenware',\n",
       "       'Tawaraya Sōtatsu, 17th century, Gold leaf and ink on paper',\n",
       "       'Johannes Vermeer, circa 1665, Oil on canvas',\n",
       "       'Eugène Delacroix, 1830, Oil on canvas'], dtype=object)"
      ]
     },
     "execution_count": 69,
     "metadata": {},
     "output_type": "execute_result"
    }
   ],
   "source": [
    "painting.Artist.unique()"
   ]
  },
  {
   "cell_type": "code",
   "execution_count": 70,
   "id": "1e7cd5e7",
   "metadata": {},
   "outputs": [
    {
     "data": {
      "text/plain": [
       "42"
      ]
     },
     "execution_count": 70,
     "metadata": {},
     "output_type": "execute_result"
    }
   ],
   "source": [
    "len(painting.Artist.unique())"
   ]
  },
  {
   "cell_type": "code",
   "execution_count": 71,
   "id": "abe7ee0c",
   "metadata": {},
   "outputs": [
    {
     "data": {
      "text/plain": [
       "array(['Wall-mounted', 'Miscellaneous', 'Housewares'], dtype=object)"
      ]
     },
     "execution_count": 71,
     "metadata": {},
     "output_type": "execute_result"
    }
   ],
   "source": [
    "painting.Category.unique()"
   ]
  },
  {
   "cell_type": "code",
   "execution_count": 72,
   "id": "63960fe9",
   "metadata": {},
   "outputs": [
    {
     "data": {
      "text/plain": [
       "array(['1.2.0'], dtype=object)"
      ]
     },
     "execution_count": 72,
     "metadata": {},
     "output_type": "execute_result"
    }
   ],
   "source": [
    "painting.Version.unique()"
   ]
  },
  {
   "cell_type": "code",
   "execution_count": 73,
   "id": "9ec2c336",
   "metadata": {},
   "outputs": [
    {
     "data": {
      "text/plain": [
       "0     Jolly Redd's Treasure Trawler\n",
       "1     Jolly Redd's Treasure Trawler\n",
       "2     Jolly Redd's Treasure Trawler\n",
       "3     Jolly Redd's Treasure Trawler\n",
       "4     Jolly Redd's Treasure Trawler\n",
       "                  ...              \n",
       "65    Jolly Redd's Treasure Trawler\n",
       "66    Jolly Redd's Treasure Trawler\n",
       "67    Jolly Redd's Treasure Trawler\n",
       "68    Jolly Redd's Treasure Trawler\n",
       "69    Jolly Redd's Treasure Trawler\n",
       "Name: Source, Length: 70, dtype: object"
      ]
     },
     "execution_count": 73,
     "metadata": {},
     "output_type": "execute_result"
    }
   ],
   "source": [
    "painting.Source"
   ]
  },
  {
   "cell_type": "code",
   "execution_count": 74,
   "id": "5b17e1a0",
   "metadata": {},
   "outputs": [
    {
     "data": {
      "text/plain": [
       "70"
      ]
     },
     "execution_count": 74,
     "metadata": {},
     "output_type": "execute_result"
    }
   ],
   "source": [
    "len(painting.Source)"
   ]
  },
  {
   "cell_type": "code",
   "execution_count": 80,
   "id": "9ad79cf6",
   "metadata": {},
   "outputs": [
    {
     "data": {
      "text/plain": [
       "0                                 Vitruvian Man\n",
       "1                                 Vitruvian Man\n",
       "2                               The Night Watch\n",
       "3                               The Night Watch\n",
       "4     Jōmon Period \"Dogū\" Figurine Shakōki-dogū\n",
       "                        ...                    \n",
       "65           Folding Screen of Fūjin and Raijin\n",
       "66           Folding Screen of Fūjin and Raijin\n",
       "67                    Girl with a Pearl Earring\n",
       "68                    Girl with a Pearl Earring\n",
       "69                   Liberty Leading the People\n",
       "Name: Real Artwork Title, Length: 70, dtype: object"
      ]
     },
     "execution_count": 80,
     "metadata": {},
     "output_type": "execute_result"
    }
   ],
   "source": [
    "painting[\"Real Artwork Title\"]"
   ]
  },
  {
   "cell_type": "code",
   "execution_count": 218,
   "id": "e2722105",
   "metadata": {},
   "outputs": [],
   "source": [
    "def Name_features(Filename):\n",
    "    if len(Filename) < 1:\n",
    "        Name.append('Nothing')\n",
    "    return{'first_Filename':Filename}"
   ]
  },
  {
   "cell_type": "code",
   "execution_count": 219,
   "id": "4ae983a5",
   "metadata": {},
   "outputs": [],
   "source": [
    "list_of_names = painting['Filename'].to_list()"
   ]
  },
  {
   "cell_type": "code",
   "execution_count": 220,
   "id": "7499857f",
   "metadata": {},
   "outputs": [
    {
     "data": {
      "text/plain": [
       "<zip at 0x1e52d95b600>"
      ]
     },
     "execution_count": 220,
     "metadata": {},
     "output_type": "execute_result"
    }
   ],
   "source": [
    "features_and_labels = zip(painting.Filename, painting.Genuine)\n",
    "features_and_labels"
   ]
  },
  {
   "cell_type": "code",
   "execution_count": 224,
   "id": "4655010d",
   "metadata": {},
   "outputs": [
    {
     "data": {
      "text/plain": [
       "[({'first_Filename': 'FtrArtNightWatchFake'}, 'No'),\n",
       " ({'first_Filename': 'FtrSculptureDoguu'}, 'Yes'),\n",
       " ({'first_Filename': 'FtrSculptureDoguuFake'}, 'No'),\n",
       " ({'first_Filename': 'FtrArtBlueBoy'}, 'Yes'),\n",
       " ({'first_Filename': 'FtrArtBlueBoyFake'}, 'No'),\n",
       " ({'first_Filename': 'FtrSculptureMilo'}, 'Yes'),\n",
       " ({'first_Filename': 'FtrSculptureMiloFake'}, 'No'),\n",
       " ({'first_Filename': 'FtrArtSundayOn'}, 'Yes'),\n",
       " ({'first_Filename': 'FtrArtGleaners'}, 'Yes'),\n",
       " ({'first_Filename': 'FtrArtAjisaisoukeizu'}, 'Yes'),\n",
       " ({'first_Filename': 'FtrArtAjisaisoukeizuFake'}, 'No'),\n",
       " ({'first_Filename': 'FtrArtKanagawaOki'}, 'Yes'),\n",
       " ({'first_Filename': 'FtrSculptureThinker'}, 'Yes'),\n",
       " ({'first_Filename': 'FtrArtMonaLisa'}, 'Yes'),\n",
       " ({'first_Filename': 'FtrArtMonaLisaFake'}, 'No'),\n",
       " ({'first_Filename': 'FtrArtSunflower'}, 'Yes'),\n",
       " ({'first_Filename': 'FtrSculptureDavid'}, 'Yes'),\n",
       " ({'first_Filename': 'FtrSculptureDavidFake'}, 'No'),\n",
       " ({'first_Filename': 'FtrArtFightingTemeraire'}, 'Yes'),\n",
       " ({'first_Filename': 'FtrArtMikaeri'}, 'Yes'),\n",
       " ({'first_Filename': 'FtrArtMikaeriFake'}, 'No'),\n",
       " ({'first_Filename': 'FtrSculptureKamehameha'}, 'Yes'),\n",
       " ({'first_Filename': 'FtrSculptureRosettaStone'}, 'Yes'),\n",
       " ({'first_Filename': 'FtrSculptureRosettaStoneFake'}, 'No'),\n",
       " ({'first_Filename': 'FtrArtSummer'}, 'Yes'),\n",
       " ({'first_Filename': 'FtrArtSummerFake'}, 'No'),\n",
       " ({'first_Filename': 'FtrArtSlower'}, 'Yes'),\n",
       " ({'first_Filename': 'FtrSculptureCapitolini'}, 'Yes'),\n",
       " ({'first_Filename': 'FtrSculptureCapitoliniFake'}, 'No'),\n",
       " ({'first_Filename': 'FtrArtBirthVenus'}, 'Yes'),\n",
       " ({'first_Filename': 'FtrArtBirthVenusFake'}, 'No'),\n",
       " ({'first_Filename': 'FtrArtIsleOfDead'}, 'Yes'),\n",
       " ({'first_Filename': 'FtrSculptureNefertiti'}, 'Yes'),\n",
       " ({'first_Filename': 'FtrSculptureNefertitiFake'}, 'No'),\n",
       " ({'first_Filename': 'FtrArtFifePlayer'}, 'Yes'),\n",
       " ({'first_Filename': 'FtrArtAppleOrange'}, 'Yes'),\n",
       " ({'first_Filename': 'FtrArtBarFB'}, 'Yes'),\n",
       " ({'first_Filename': 'FtrArtMilkmaid'}, 'Yes'),\n",
       " ({'first_Filename': 'FtrArtMilkmaidFake'}, 'No'),\n",
       " ({'first_Filename': 'FtrSculptureDiskobolos'}, 'Yes'),\n",
       " ({'first_Filename': 'FtrSculptureDiskobolosFake'}, 'No'),\n",
       " ({'first_Filename': 'FtrSculptureOlmecaHead'}, 'Yes'),\n",
       " ({'first_Filename': 'FtrSculptureOlmecaHeadFake'}, 'No'),\n",
       " ({'first_Filename': 'FtrArtOotaniOniji'}, 'Yes'),\n",
       " ({'first_Filename': 'FtrArtOotaniOnijiFake'}, 'No'),\n",
       " ({'first_Filename': 'FtrArtHunterSnow'}, 'Yes'),\n",
       " ({'first_Filename': 'FtrArtHunterSnowFake'}, 'No'),\n",
       " ({'first_Filename': 'FtrArtPortraitCecilia'}, 'Yes'),\n",
       " ({'first_Filename': 'FtrArtPortraitCeciliaFake'}, 'No'),\n",
       " ({'first_Filename': 'FtrArtOphelia'}, 'Yes'),\n",
       " ({'first_Filename': 'FtrArtLasMeninas'}, 'Yes'),\n",
       " ({'first_Filename': 'FtrArtLasMeninasFake'}, 'No'),\n",
       " ({'first_Filename': 'FtrSculptureHoumuwuDing'}, 'Yes'),\n",
       " ({'first_Filename': 'FtrSculptureHoumuwuDingFake'}, 'No'),\n",
       " ({'first_Filename': 'FtrArtStarryNight'}, 'Yes'),\n",
       " ({'first_Filename': 'FtrSculptureSamothrace'}, 'Yes'),\n",
       " ({'first_Filename': 'FtrSculptureSamothraceFake'}, 'No'),\n",
       " ({'first_Filename': 'FtrArtClothedMaja'}, 'Yes'),\n",
       " ({'first_Filename': 'FtrSculptureHeibayo'}, 'Yes'),\n",
       " ({'first_Filename': 'FtrSculptureHeibayoFake'}, 'No'),\n",
       " ({'first_Filename': 'FtrArtRaijin'}, 'Yes'),\n",
       " ({'first_Filename': 'FtrArtRaijinFake'}, 'No'),\n",
       " ({'first_Filename': 'FtrArtFuujin'}, 'Yes'),\n",
       " ({'first_Filename': 'FtrArtFuujinFake'}, 'No'),\n",
       " ({'first_Filename': 'FtrArtPearlEarring'}, 'Yes'),\n",
       " ({'first_Filename': 'FtrArtPearlEarringFake'}, 'No'),\n",
       " ({'first_Filename': 'FtrArtLibertyLeading'}, 'Yes')]"
      ]
     },
     "execution_count": 224,
     "metadata": {},
     "output_type": "execute_result"
    }
   ],
   "source": [
    "feature_sets = [ (Name_features(Name), Filename) for Name, Filename in features_and_labels]\n",
    "feature_sets"
   ]
  },
  {
   "cell_type": "code",
   "execution_count": 225,
   "id": "24f8ac01",
   "metadata": {},
   "outputs": [],
   "source": [
    "import random\n",
    "random.shuffle(feature_sets)"
   ]
  },
  {
   "cell_type": "code",
   "execution_count": 226,
   "id": "03032149",
   "metadata": {},
   "outputs": [
    {
     "data": {
      "text/plain": [
       "67"
      ]
     },
     "execution_count": 226,
     "metadata": {},
     "output_type": "execute_result"
    }
   ],
   "source": [
    "len(feature_sets)"
   ]
  },
  {
   "cell_type": "code",
   "execution_count": 227,
   "id": "a87c6754",
   "metadata": {},
   "outputs": [
    {
     "data": {
      "text/plain": [
       "54.400000000000006"
      ]
     },
     "execution_count": 227,
     "metadata": {},
     "output_type": "execute_result"
    }
   ],
   "source": [
    "68* .8"
   ]
  },
  {
   "cell_type": "code",
   "execution_count": 228,
   "id": "757c4bf5",
   "metadata": {},
   "outputs": [
    {
     "name": "stdout",
     "output_type": "stream",
     "text": [
      "67\n",
      "53\n"
     ]
    }
   ],
   "source": [
    "import math\n",
    "import nltk\n",
    "\n",
    "print(len(feature_sets))\n",
    "split_num = math.floor(len(feature_sets)*.8)\n",
    "print(split_num)"
   ]
  },
  {
   "cell_type": "code",
   "execution_count": 229,
   "id": "bd884e93",
   "metadata": {},
   "outputs": [],
   "source": [
    "training_set = feature_sets[:split_num]\n",
    "testing_set = feature_sets[split_num:]"
   ]
  },
  {
   "cell_type": "code",
   "execution_count": 230,
   "id": "2b3af2df",
   "metadata": {},
   "outputs": [],
   "source": [
    "classifier = nltk.NaiveBayesClassifier.train(training_set)"
   ]
  },
  {
   "cell_type": "code",
   "execution_count": 234,
   "id": "8627074f",
   "metadata": {},
   "outputs": [
    {
     "name": "stdout",
     "output_type": "stream",
     "text": [
      "0.5714285714285714\n"
     ]
    }
   ],
   "source": [
    "print(nltk.classify.accuracy(classifier, testing_set))"
   ]
  },
  {
   "cell_type": "code",
   "execution_count": 235,
   "id": "c53798bd",
   "metadata": {},
   "outputs": [],
   "source": [
    "import random\n",
    "random.shuffle(feature_sets)"
   ]
  },
  {
   "cell_type": "code",
   "execution_count": 236,
   "id": "c4d540f0",
   "metadata": {},
   "outputs": [
    {
     "data": {
      "text/plain": [
       "67"
      ]
     },
     "execution_count": 236,
     "metadata": {},
     "output_type": "execute_result"
    }
   ],
   "source": [
    "len(feature_sets)"
   ]
  },
  {
   "cell_type": "code",
   "execution_count": 237,
   "id": "a2b31a1d",
   "metadata": {},
   "outputs": [
    {
     "data": {
      "text/plain": [
       "54.400000000000006"
      ]
     },
     "execution_count": 237,
     "metadata": {},
     "output_type": "execute_result"
    }
   ],
   "source": [
    "68* .8"
   ]
  },
  {
   "cell_type": "code",
   "execution_count": 238,
   "id": "8b16ead4",
   "metadata": {},
   "outputs": [],
   "source": [
    "training_set = feature_sets[:54]\n",
    "testing_set = feature_sets[54:]"
   ]
  },
  {
   "cell_type": "code",
   "execution_count": 239,
   "id": "e7200333",
   "metadata": {},
   "outputs": [],
   "source": [
    "import nltk\n",
    "classifier = nltk.NaiveBayesClassifier.train(training_set)"
   ]
  },
  {
   "cell_type": "code",
   "execution_count": 240,
   "id": "8e94f62c",
   "metadata": {},
   "outputs": [
    {
     "data": {
      "text/plain": [
       "'Yes'"
      ]
     },
     "execution_count": 240,
     "metadata": {},
     "output_type": "execute_result"
    }
   ],
   "source": [
    "classifier.classify(Name_features(('FtrSculptureHeibayo')))"
   ]
  },
  {
   "cell_type": "code",
   "execution_count": 241,
   "id": "3c25ecb8",
   "metadata": {},
   "outputs": [
    {
     "name": "stdout",
     "output_type": "stream",
     "text": [
      "0.46153846153846156\n"
     ]
    }
   ],
   "source": [
    "print(nltk.classify.accuracy(classifier, testing_set))"
   ]
  },
  {
   "cell_type": "code",
   "execution_count": null,
   "id": "d49334c8",
   "metadata": {},
   "outputs": [],
   "source": []
  }
 ],
 "metadata": {
  "kernelspec": {
   "display_name": "Python 3 (ipykernel)",
   "language": "python",
   "name": "python3"
  },
  "language_info": {
   "codemirror_mode": {
    "name": "ipython",
    "version": 3
   },
   "file_extension": ".py",
   "mimetype": "text/x-python",
   "name": "python",
   "nbconvert_exporter": "python",
   "pygments_lexer": "ipython3",
   "version": "3.11.0"
  }
 },
 "nbformat": 4,
 "nbformat_minor": 5
}
